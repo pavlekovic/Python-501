{
 "cells": [
  {
   "cell_type": "code",
   "execution_count": 3,
   "id": "b61a650c-9a9d-4d37-a5f9-9059e6961bd4",
   "metadata": {},
   "outputs": [],
   "source": [
    "# Importing libraries and packages\n",
    "import numpy as np\n",
    "import pandas as pd\n",
    "from pandas import Series, DataFrame\n",
    "\n",
    "#import sys\n",
    "#!{sys.executable} -m pip install pandas"
   ]
  },
  {
   "cell_type": "code",
   "execution_count": 5,
   "id": "bd15378a-d59e-447e-b4f9-1f8892844afc",
   "metadata": {},
   "outputs": [
    {
     "data": {
      "text/plain": [
       "Don      450\n",
       "Mike     650\n",
       "Edwin    870\n",
       "dtype: int64"
      ]
     },
     "execution_count": 5,
     "metadata": {},
     "output_type": "execute_result"
    }
   ],
   "source": [
    "data = [450, 650, 870]\n",
    "Sales = Series(data, index = [\"Don\", \"Mike\", \"Edwin\"])\n",
    "Sales"
   ]
  },
  {
   "cell_type": "code",
   "execution_count": 6,
   "id": "a758187b-c90a-48ca-9155-5edba66a38cf",
   "metadata": {},
   "outputs": [
    {
     "data": {
      "text/plain": [
       "pandas.core.series.Series"
      ]
     },
     "execution_count": 6,
     "metadata": {},
     "output_type": "execute_result"
    }
   ],
   "source": [
    "type(Sales)"
   ]
  },
  {
   "cell_type": "code",
   "execution_count": 7,
   "id": "6992c958-65a4-4c3c-b9c2-bafa92e56b0b",
   "metadata": {},
   "outputs": [
    {
     "data": {
      "text/plain": [
       "Index(['Don', 'Mike', 'Edwin'], dtype='object')"
      ]
     },
     "execution_count": 7,
     "metadata": {},
     "output_type": "execute_result"
    }
   ],
   "source": [
    "# If we check the index of Sales, we will get the values, rather than the range. Because it's a string.\n",
    "Sales.index"
   ]
  },
  {
   "cell_type": "markdown",
   "id": "47f734aa-974d-4db4-b708-73fb56e75bb9",
   "metadata": {},
   "source": [
    "## Accessing values"
   ]
  },
  {
   "cell_type": "code",
   "execution_count": 8,
   "id": "ac832bde-3afd-4b0b-9827-59777bd10ebb",
   "metadata": {},
   "outputs": [
    {
     "data": {
      "text/plain": [
       "np.int64(450)"
      ]
     },
     "execution_count": 8,
     "metadata": {},
     "output_type": "execute_result"
    }
   ],
   "source": [
    "# You can access values using the index name\n",
    "Sales[\"Don\"]"
   ]
  },
  {
   "cell_type": "code",
   "execution_count": 9,
   "id": "7fff00ec-584e-469a-a42c-1bb4797a8c26",
   "metadata": {},
   "outputs": [
    {
     "name": "stderr",
     "output_type": "stream",
     "text": [
      "/var/folders/_d/1b2bwsj97vl8l973k2_204tc0000gn/T/ipykernel_92545/3521589511.py:2: FutureWarning: Series.__getitem__ treating keys as positions is deprecated. In a future version, integer keys will always be treated as labels (consistent with DataFrame behavior). To access a value by position, use `ser.iloc[pos]`\n",
      "  Sales[0]\n"
     ]
    },
    {
     "data": {
      "text/plain": [
       "np.int64(450)"
      ]
     },
     "execution_count": 9,
     "metadata": {},
     "output_type": "execute_result"
    }
   ],
   "source": [
    "# You can still use traditional indexing\n",
    "Sales[0]"
   ]
  },
  {
   "cell_type": "markdown",
   "id": "3b97db3b-cc24-4204-ac42-85b35da78db5",
   "metadata": {},
   "source": [
    "## Checking for conditions"
   ]
  },
  {
   "cell_type": "code",
   "execution_count": 11,
   "id": "0396c430-3b52-4e81-a912-b44b469422d0",
   "metadata": {},
   "outputs": [
    {
     "data": {
      "text/plain": [
       "Don      False\n",
       "Mike      True\n",
       "Edwin     True\n",
       "dtype: bool"
      ]
     },
     "execution_count": 11,
     "metadata": {},
     "output_type": "execute_result"
    }
   ],
   "source": [
    "# You can filter based on conditions\n",
    "Sales > 500\n",
    "# Returns booleans"
   ]
  },
  {
   "cell_type": "code",
   "execution_count": 12,
   "id": "60e85290-b16b-411e-8d69-0805345d7c34",
   "metadata": {},
   "outputs": [
    {
     "data": {
      "text/plain": [
       "Mike     650\n",
       "Edwin    870\n",
       "dtype: int64"
      ]
     },
     "execution_count": 12,
     "metadata": {},
     "output_type": "execute_result"
    }
   ],
   "source": [
    "# We can use these booleans\n",
    "Sales[[False,True, True]]"
   ]
  },
  {
   "cell_type": "code",
   "execution_count": 13,
   "id": "d8319cd2-da60-4057-b31a-05b529e75c4e",
   "metadata": {},
   "outputs": [
    {
     "data": {
      "text/plain": [
       "Mike     650\n",
       "Edwin    870\n",
       "dtype: int64"
      ]
     },
     "execution_count": 13,
     "metadata": {},
     "output_type": "execute_result"
    }
   ],
   "source": [
    "Sales[Sales>500]"
   ]
  },
  {
   "cell_type": "code",
   "execution_count": 14,
   "id": "a052a8bd-275e-44e3-b277-52570842ca5e",
   "metadata": {},
   "outputs": [
    {
     "data": {
      "text/plain": [
       "True"
      ]
     },
     "execution_count": 14,
     "metadata": {},
     "output_type": "execute_result"
    }
   ],
   "source": [
    "\"Don\" in Sales"
   ]
  },
  {
   "cell_type": "code",
   "execution_count": 15,
   "id": "c29d6016-c33e-4fae-be1f-62dbaf7ee0be",
   "metadata": {},
   "outputs": [
    {
     "data": {
      "text/plain": [
       "False"
      ]
     },
     "execution_count": 15,
     "metadata": {},
     "output_type": "execute_result"
    }
   ],
   "source": [
    "# False example\n",
    "\"Sally\" in Sales"
   ]
  },
  {
   "cell_type": "code",
   "execution_count": 16,
   "id": "1a1ecb9c-8681-41b5-aecb-92970b715a4d",
   "metadata": {},
   "outputs": [
    {
     "data": {
      "text/plain": [
       "False"
      ]
     },
     "execution_count": 16,
     "metadata": {},
     "output_type": "execute_result"
    }
   ],
   "source": [
    "450 in Sales"
   ]
  },
  {
   "cell_type": "code",
   "execution_count": 18,
   "id": "8d65adaf-bbcf-4f63-b0a9-6817321373e7",
   "metadata": {},
   "outputs": [
    {
     "data": {
      "text/plain": [
       "False"
      ]
     },
     "execution_count": 18,
     "metadata": {},
     "output_type": "execute_result"
    }
   ],
   "source": [
    "\"450\" in Sales\n",
    "# 450 is not an index, it's a value. Thus it will return False."
   ]
  },
  {
   "cell_type": "markdown",
   "id": "e3c6fa0f-c68b-4bf0-bfe2-1a6b77d76416",
   "metadata": {},
   "source": [
    "# Working with Dictionaries"
   ]
  },
  {
   "cell_type": "code",
   "execution_count": 19,
   "id": "e122b3f0-20b1-4978-8e38-b971e1700c28",
   "metadata": {},
   "outputs": [
    {
     "data": {
      "text/plain": [
       "{'Don': 450, 'Mike': 650, 'Edwin': 870}"
      ]
     },
     "execution_count": 19,
     "metadata": {},
     "output_type": "execute_result"
    }
   ],
   "source": [
    "# Converting a Series to a dictionary\n",
    "sales_dict = Sales.to_dict()\n",
    "sales_dict"
   ]
  },
  {
   "cell_type": "code",
   "execution_count": 21,
   "id": "d477e8fc-0f7f-40ec-b871-4e72786e2bae",
   "metadata": {},
   "outputs": [
    {
     "data": {
      "text/plain": [
       "Don      450\n",
       "Mike     650\n",
       "Edwin    870\n",
       "dtype: int64"
      ]
     },
     "execution_count": 21,
     "metadata": {},
     "output_type": "execute_result"
    }
   ],
   "source": [
    "# Converting a dict to a Series\n",
    "sales_ser = Series(sales_dict)\n",
    "sales_ser"
   ]
  },
  {
   "cell_type": "markdown",
   "id": "32cbb70e-5843-499b-be0c-638eb5d57c2c",
   "metadata": {},
   "source": [
    "### Adding entries and working with NaN/null values"
   ]
  },
  {
   "cell_type": "code",
   "execution_count": 22,
   "id": "bb2e00b4-cf4e-454c-9e60-ebb1583b0fc3",
   "metadata": {},
   "outputs": [
    {
     "data": {
      "text/plain": [
       "Don      450.0\n",
       "Mike     650.0\n",
       "Sally      NaN\n",
       "Edwin    870.0\n",
       "Lucy       NaN\n",
       "dtype: float64"
      ]
     },
     "execution_count": 22,
     "metadata": {},
     "output_type": "execute_result"
    }
   ],
   "source": [
    "new_sales = Series (Sales, index=[\"Don\", \"Mike\", \"Sally\", \"Edwin\", \"Lucy\"])\n",
    "new_sales"
   ]
  },
  {
   "cell_type": "code",
   "execution_count": 23,
   "id": "5e328ff9-10e9-4430-b2e5-ca07eb5a5a27",
   "metadata": {},
   "outputs": [
    {
     "data": {
      "text/plain": [
       "Don      False\n",
       "Mike     False\n",
       "Sally     True\n",
       "Edwin    False\n",
       "Lucy      True\n",
       "dtype: bool"
      ]
     },
     "execution_count": 23,
     "metadata": {},
     "output_type": "execute_result"
    }
   ],
   "source": [
    "# We can check if there are any NaN values in a Series\n",
    "# We use numpy\n",
    "np.isnan(new_sales)"
   ]
  },
  {
   "cell_type": "code",
   "execution_count": 24,
   "id": "ffd9476c-6de8-4945-8ae6-8986ae183efd",
   "metadata": {},
   "outputs": [
    {
     "data": {
      "text/plain": [
       "Don      False\n",
       "Mike     False\n",
       "Sally     True\n",
       "Edwin    False\n",
       "Lucy      True\n",
       "dtype: bool"
      ]
     },
     "execution_count": 24,
     "metadata": {},
     "output_type": "execute_result"
    }
   ],
   "source": [
    "# To check for null values, use Pandas\n",
    "pd.isnull(new_sales)"
   ]
  },
  {
   "cell_type": "markdown",
   "id": "7e0b142a-30f7-4986-93a1-cf190341def5",
   "metadata": {},
   "source": [
    "### Naming components in a Series"
   ]
  },
  {
   "cell_type": "code",
   "execution_count": 29,
   "id": "745b9708-7fca-4301-9c8a-ce9805ab9ea8",
   "metadata": {},
   "outputs": [
    {
     "data": {
      "text/plain": [
       "Sales person\n",
       "Don      450\n",
       "Mike     650\n",
       "Edwin    870\n",
       "Name: Total TV sales, dtype: int64"
      ]
     },
     "execution_count": 29,
     "metadata": {},
     "output_type": "execute_result"
    }
   ],
   "source": [
    "# Name an index\n",
    "Sales.index.name = \"Sales person\"\n",
    "Sales"
   ]
  },
  {
   "cell_type": "code",
   "execution_count": 28,
   "id": "3114f6c8-aa08-4225-a096-d73c1059e9fe",
   "metadata": {},
   "outputs": [
    {
     "data": {
      "text/plain": [
       "Sales person\n",
       "Don      450\n",
       "Mike     650\n",
       "Edwin    870\n",
       "Name: Total TV sales, dtype: int64"
      ]
     },
     "execution_count": 28,
     "metadata": {},
     "output_type": "execute_result"
    }
   ],
   "source": [
    "# Naming a Series\n",
    "Sales.name = \"Total TV sales\"\n",
    "Sales"
   ]
  },
  {
   "cell_type": "markdown",
   "id": "2198c920-0831-4d3e-8b65-4f5e565b561d",
   "metadata": {},
   "source": [
    "## DataFrames\n",
    "\n",
    "DataFrames are two-dimensional, size-mutable, potentially heterogeneous tabular data structures. This data structure contains TWO labeled axes (rows and columns.)"
   ]
  },
  {
   "cell_type": "markdown",
   "id": "a4b1b842-d899-46c7-8dda-57b301f29208",
   "metadata": {},
   "source": [
    "### Creating a DataFrame"
   ]
  },
  {
   "cell_type": "code",
   "execution_count": 33,
   "id": "22ea062a-b794-4d32-b084-766ca7bf3b1c",
   "metadata": {},
   "outputs": [
    {
     "data": {
      "text/html": [
       "<div>\n",
       "<style scoped>\n",
       "    .dataframe tbody tr th:only-of-type {\n",
       "        vertical-align: middle;\n",
       "    }\n",
       "\n",
       "    .dataframe tbody tr th {\n",
       "        vertical-align: top;\n",
       "    }\n",
       "\n",
       "    .dataframe thead th {\n",
       "        text-align: right;\n",
       "    }\n",
       "</style>\n",
       "<table border=\"1\" class=\"dataframe\">\n",
       "  <thead>\n",
       "    <tr style=\"text-align: right;\">\n",
       "      <th></th>\n",
       "      <th>Name</th>\n",
       "      <th>Age</th>\n",
       "    </tr>\n",
       "  </thead>\n",
       "  <tbody>\n",
       "    <tr>\n",
       "      <th>0</th>\n",
       "      <td>Adrian</td>\n",
       "      <td>20</td>\n",
       "    </tr>\n",
       "    <tr>\n",
       "      <th>1</th>\n",
       "      <td>Bethany</td>\n",
       "      <td>23</td>\n",
       "    </tr>\n",
       "    <tr>\n",
       "      <th>2</th>\n",
       "      <td>Chloe</td>\n",
       "      <td>41</td>\n",
       "    </tr>\n",
       "  </tbody>\n",
       "</table>\n",
       "</div>"
      ],
      "text/plain": [
       "      Name  Age\n",
       "0   Adrian   20\n",
       "1  Bethany   23\n",
       "2    Chloe   41"
      ]
     },
     "execution_count": 33,
     "metadata": {},
     "output_type": "execute_result"
    }
   ],
   "source": [
    "# Creating a DataFrame from a list\n",
    "data = [[\"Adrian\", 20],[\"Bethany\", 23], [\"Chloe\", 41]]\n",
    "\n",
    "#When we create a DataFrame, we can specify what the column names are and the data type is\n",
    "df = pd.DataFrame(data, columns=[\"Name\", \"Age\"])\n",
    "df"
   ]
  },
  {
   "cell_type": "code",
   "execution_count": null,
   "id": "b7f7a1ba-b05e-47f2-97c2-824c7594c10f",
   "metadata": {},
   "outputs": [],
   "source": []
  }
 ],
 "metadata": {
  "kernelspec": {
   "display_name": "Python 3 (ipykernel)",
   "language": "python",
   "name": "python3"
  },
  "language_info": {
   "codemirror_mode": {
    "name": "ipython",
    "version": 3
   },
   "file_extension": ".py",
   "mimetype": "text/x-python",
   "name": "python",
   "nbconvert_exporter": "python",
   "pygments_lexer": "ipython3",
   "version": "3.13.1"
  }
 },
 "nbformat": 4,
 "nbformat_minor": 5
}
