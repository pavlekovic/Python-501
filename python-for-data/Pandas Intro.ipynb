{
 "cells": [
  {
   "cell_type": "markdown",
   "id": "9b5e0fa8-ee28-4efc-a32a-01c8827060ef",
   "metadata": {},
   "source": [
    "# Intro to Pandas"
   ]
  },
  {
   "cell_type": "code",
   "execution_count": 9,
   "id": "b61a650c-9a9d-4d37-a5f9-9059e6961bd4",
   "metadata": {},
   "outputs": [],
   "source": [
    "# Importing libraries and packages\n",
    "import numpy as np\n",
    "import pandas as pd\n",
    "from pandas import Series, DataFrame\n",
    "\n",
    "#import sys\n",
    "#!{sys.executable} -m pip install pandas\n",
    "#!{sys.executable} -m pip install pandas"
   ]
  },
  {
   "cell_type": "code",
   "execution_count": 10,
   "id": "bd15378a-d59e-447e-b4f9-1f8892844afc",
   "metadata": {},
   "outputs": [
    {
     "data": {
      "text/plain": [
       "Don      450\n",
       "Mike     650\n",
       "Edwin    870\n",
       "dtype: int64"
      ]
     },
     "execution_count": 10,
     "metadata": {},
     "output_type": "execute_result"
    }
   ],
   "source": [
    "data = [450, 650, 870]\n",
    "Sales = Series(data, index = [\"Don\", \"Mike\", \"Edwin\"])\n",
    "Sales"
   ]
  },
  {
   "cell_type": "code",
   "execution_count": 6,
   "id": "a758187b-c90a-48ca-9155-5edba66a38cf",
   "metadata": {},
   "outputs": [
    {
     "data": {
      "text/plain": [
       "pandas.core.series.Series"
      ]
     },
     "execution_count": 6,
     "metadata": {},
     "output_type": "execute_result"
    }
   ],
   "source": [
    "type(Sales)"
   ]
  },
  {
   "cell_type": "code",
   "execution_count": 7,
   "id": "6992c958-65a4-4c3c-b9c2-bafa92e56b0b",
   "metadata": {},
   "outputs": [
    {
     "data": {
      "text/plain": [
       "Index(['Don', 'Mike', 'Edwin'], dtype='object')"
      ]
     },
     "execution_count": 7,
     "metadata": {},
     "output_type": "execute_result"
    }
   ],
   "source": [
    "# If we check the index of Sales, we will get the values, rather than the range. Because it's a string.\n",
    "Sales.index"
   ]
  },
  {
   "cell_type": "markdown",
   "id": "47f734aa-974d-4db4-b708-73fb56e75bb9",
   "metadata": {},
   "source": [
    "## Accessing values"
   ]
  },
  {
   "cell_type": "code",
   "execution_count": 8,
   "id": "ac832bde-3afd-4b0b-9827-59777bd10ebb",
   "metadata": {},
   "outputs": [
    {
     "data": {
      "text/plain": [
       "np.int64(450)"
      ]
     },
     "execution_count": 8,
     "metadata": {},
     "output_type": "execute_result"
    }
   ],
   "source": [
    "# You can access values using the index name\n",
    "Sales[\"Don\"]"
   ]
  },
  {
   "cell_type": "code",
   "execution_count": 9,
   "id": "7fff00ec-584e-469a-a42c-1bb4797a8c26",
   "metadata": {},
   "outputs": [
    {
     "name": "stderr",
     "output_type": "stream",
     "text": [
      "/var/folders/_d/1b2bwsj97vl8l973k2_204tc0000gn/T/ipykernel_92545/3521589511.py:2: FutureWarning: Series.__getitem__ treating keys as positions is deprecated. In a future version, integer keys will always be treated as labels (consistent with DataFrame behavior). To access a value by position, use `ser.iloc[pos]`\n",
      "  Sales[0]\n"
     ]
    },
    {
     "data": {
      "text/plain": [
       "np.int64(450)"
      ]
     },
     "execution_count": 9,
     "metadata": {},
     "output_type": "execute_result"
    }
   ],
   "source": [
    "# You can still use traditional indexing\n",
    "Sales[0]"
   ]
  },
  {
   "cell_type": "markdown",
   "id": "3b97db3b-cc24-4204-ac42-85b35da78db5",
   "metadata": {},
   "source": [
    "## Checking for conditions"
   ]
  },
  {
   "cell_type": "code",
   "execution_count": 11,
   "id": "0396c430-3b52-4e81-a912-b44b469422d0",
   "metadata": {},
   "outputs": [
    {
     "data": {
      "text/plain": [
       "Don      False\n",
       "Mike      True\n",
       "Edwin     True\n",
       "dtype: bool"
      ]
     },
     "execution_count": 11,
     "metadata": {},
     "output_type": "execute_result"
    }
   ],
   "source": [
    "# You can filter based on conditions\n",
    "Sales > 500\n",
    "# Returns booleans"
   ]
  },
  {
   "cell_type": "code",
   "execution_count": 12,
   "id": "60e85290-b16b-411e-8d69-0805345d7c34",
   "metadata": {},
   "outputs": [
    {
     "data": {
      "text/plain": [
       "Mike     650\n",
       "Edwin    870\n",
       "dtype: int64"
      ]
     },
     "execution_count": 12,
     "metadata": {},
     "output_type": "execute_result"
    }
   ],
   "source": [
    "# We can use these booleans\n",
    "Sales[[False,True, True]]"
   ]
  },
  {
   "cell_type": "code",
   "execution_count": 13,
   "id": "d8319cd2-da60-4057-b31a-05b529e75c4e",
   "metadata": {},
   "outputs": [
    {
     "data": {
      "text/plain": [
       "Mike     650\n",
       "Edwin    870\n",
       "dtype: int64"
      ]
     },
     "execution_count": 13,
     "metadata": {},
     "output_type": "execute_result"
    }
   ],
   "source": [
    "Sales[Sales>500]"
   ]
  },
  {
   "cell_type": "code",
   "execution_count": 14,
   "id": "a052a8bd-275e-44e3-b277-52570842ca5e",
   "metadata": {},
   "outputs": [
    {
     "data": {
      "text/plain": [
       "True"
      ]
     },
     "execution_count": 14,
     "metadata": {},
     "output_type": "execute_result"
    }
   ],
   "source": [
    "\"Don\" in Sales"
   ]
  },
  {
   "cell_type": "code",
   "execution_count": 15,
   "id": "c29d6016-c33e-4fae-be1f-62dbaf7ee0be",
   "metadata": {},
   "outputs": [
    {
     "data": {
      "text/plain": [
       "False"
      ]
     },
     "execution_count": 15,
     "metadata": {},
     "output_type": "execute_result"
    }
   ],
   "source": [
    "# False example\n",
    "\"Sally\" in Sales"
   ]
  },
  {
   "cell_type": "code",
   "execution_count": 16,
   "id": "1a1ecb9c-8681-41b5-aecb-92970b715a4d",
   "metadata": {},
   "outputs": [
    {
     "data": {
      "text/plain": [
       "False"
      ]
     },
     "execution_count": 16,
     "metadata": {},
     "output_type": "execute_result"
    }
   ],
   "source": [
    "450 in Sales"
   ]
  },
  {
   "cell_type": "code",
   "execution_count": 18,
   "id": "8d65adaf-bbcf-4f63-b0a9-6817321373e7",
   "metadata": {},
   "outputs": [
    {
     "data": {
      "text/plain": [
       "False"
      ]
     },
     "execution_count": 18,
     "metadata": {},
     "output_type": "execute_result"
    }
   ],
   "source": [
    "\"450\" in Sales\n",
    "# 450 is not an index, it's a value. Thus it will return False."
   ]
  },
  {
   "cell_type": "markdown",
   "id": "e3c6fa0f-c68b-4bf0-bfe2-1a6b77d76416",
   "metadata": {},
   "source": [
    "# Working with Dictionaries"
   ]
  },
  {
   "cell_type": "code",
   "execution_count": 11,
   "id": "e122b3f0-20b1-4978-8e38-b971e1700c28",
   "metadata": {},
   "outputs": [
    {
     "data": {
      "text/plain": [
       "{'Don': 450, 'Mike': 650, 'Edwin': 870}"
      ]
     },
     "execution_count": 11,
     "metadata": {},
     "output_type": "execute_result"
    }
   ],
   "source": [
    "# Converting a Series to a dictionary\n",
    "sales_dict = Sales.to_dict()\n",
    "sales_dict"
   ]
  },
  {
   "cell_type": "code",
   "execution_count": 21,
   "id": "d477e8fc-0f7f-40ec-b871-4e72786e2bae",
   "metadata": {},
   "outputs": [
    {
     "data": {
      "text/plain": [
       "Don      450\n",
       "Mike     650\n",
       "Edwin    870\n",
       "dtype: int64"
      ]
     },
     "execution_count": 21,
     "metadata": {},
     "output_type": "execute_result"
    }
   ],
   "source": [
    "# Converting a dict to a Series\n",
    "sales_ser = Series(sales_dict)\n",
    "sales_ser"
   ]
  },
  {
   "cell_type": "markdown",
   "id": "32cbb70e-5843-499b-be0c-638eb5d57c2c",
   "metadata": {},
   "source": [
    "### Adding entries and working with NaN/null values"
   ]
  },
  {
   "cell_type": "code",
   "execution_count": 22,
   "id": "bb2e00b4-cf4e-454c-9e60-ebb1583b0fc3",
   "metadata": {},
   "outputs": [
    {
     "data": {
      "text/plain": [
       "Don      450.0\n",
       "Mike     650.0\n",
       "Sally      NaN\n",
       "Edwin    870.0\n",
       "Lucy       NaN\n",
       "dtype: float64"
      ]
     },
     "execution_count": 22,
     "metadata": {},
     "output_type": "execute_result"
    }
   ],
   "source": [
    "new_sales = Series (Sales, index=[\"Don\", \"Mike\", \"Sally\", \"Edwin\", \"Lucy\"])\n",
    "new_sales"
   ]
  },
  {
   "cell_type": "code",
   "execution_count": 23,
   "id": "5e328ff9-10e9-4430-b2e5-ca07eb5a5a27",
   "metadata": {},
   "outputs": [
    {
     "data": {
      "text/plain": [
       "Don      False\n",
       "Mike     False\n",
       "Sally     True\n",
       "Edwin    False\n",
       "Lucy      True\n",
       "dtype: bool"
      ]
     },
     "execution_count": 23,
     "metadata": {},
     "output_type": "execute_result"
    }
   ],
   "source": [
    "# We can check if there are any NaN values in a Series\n",
    "# We use numpy\n",
    "np.isnan(new_sales)"
   ]
  },
  {
   "cell_type": "code",
   "execution_count": 24,
   "id": "ffd9476c-6de8-4945-8ae6-8986ae183efd",
   "metadata": {},
   "outputs": [
    {
     "data": {
      "text/plain": [
       "Don      False\n",
       "Mike     False\n",
       "Sally     True\n",
       "Edwin    False\n",
       "Lucy      True\n",
       "dtype: bool"
      ]
     },
     "execution_count": 24,
     "metadata": {},
     "output_type": "execute_result"
    }
   ],
   "source": [
    "# To check for null values, use Pandas\n",
    "pd.isnull(new_sales)"
   ]
  },
  {
   "cell_type": "markdown",
   "id": "7e0b142a-30f7-4986-93a1-cf190341def5",
   "metadata": {},
   "source": [
    "### Naming components in a Series"
   ]
  },
  {
   "cell_type": "code",
   "execution_count": 29,
   "id": "745b9708-7fca-4301-9c8a-ce9805ab9ea8",
   "metadata": {},
   "outputs": [
    {
     "data": {
      "text/plain": [
       "Sales person\n",
       "Don      450\n",
       "Mike     650\n",
       "Edwin    870\n",
       "Name: Total TV sales, dtype: int64"
      ]
     },
     "execution_count": 29,
     "metadata": {},
     "output_type": "execute_result"
    }
   ],
   "source": [
    "# Name an index\n",
    "Sales.index.name = \"Sales person\"\n",
    "Sales"
   ]
  },
  {
   "cell_type": "code",
   "execution_count": 28,
   "id": "3114f6c8-aa08-4225-a096-d73c1059e9fe",
   "metadata": {},
   "outputs": [
    {
     "data": {
      "text/plain": [
       "Sales person\n",
       "Don      450\n",
       "Mike     650\n",
       "Edwin    870\n",
       "Name: Total TV sales, dtype: int64"
      ]
     },
     "execution_count": 28,
     "metadata": {},
     "output_type": "execute_result"
    }
   ],
   "source": [
    "# Naming a Series\n",
    "Sales.name = \"Total TV sales\"\n",
    "Sales"
   ]
  },
  {
   "cell_type": "markdown",
   "id": "2198c920-0831-4d3e-8b65-4f5e565b561d",
   "metadata": {},
   "source": [
    "## DataFrames\n",
    "\n",
    "DataFrames are two-dimensional, size-mutable, potentially heterogeneous tabular data structures. This data structure contains TWO labeled axes (rows and columns.)"
   ]
  },
  {
   "cell_type": "markdown",
   "id": "a4b1b842-d899-46c7-8dda-57b301f29208",
   "metadata": {},
   "source": [
    "### Creating a DataFrame"
   ]
  },
  {
   "cell_type": "code",
   "execution_count": 33,
   "id": "22ea062a-b794-4d32-b084-766ca7bf3b1c",
   "metadata": {},
   "outputs": [
    {
     "data": {
      "text/html": [
       "<div>\n",
       "<style scoped>\n",
       "    .dataframe tbody tr th:only-of-type {\n",
       "        vertical-align: middle;\n",
       "    }\n",
       "\n",
       "    .dataframe tbody tr th {\n",
       "        vertical-align: top;\n",
       "    }\n",
       "\n",
       "    .dataframe thead th {\n",
       "        text-align: right;\n",
       "    }\n",
       "</style>\n",
       "<table border=\"1\" class=\"dataframe\">\n",
       "  <thead>\n",
       "    <tr style=\"text-align: right;\">\n",
       "      <th></th>\n",
       "      <th>Name</th>\n",
       "      <th>Age</th>\n",
       "    </tr>\n",
       "  </thead>\n",
       "  <tbody>\n",
       "    <tr>\n",
       "      <th>0</th>\n",
       "      <td>Adrian</td>\n",
       "      <td>20</td>\n",
       "    </tr>\n",
       "    <tr>\n",
       "      <th>1</th>\n",
       "      <td>Bethany</td>\n",
       "      <td>23</td>\n",
       "    </tr>\n",
       "    <tr>\n",
       "      <th>2</th>\n",
       "      <td>Chloe</td>\n",
       "      <td>41</td>\n",
       "    </tr>\n",
       "  </tbody>\n",
       "</table>\n",
       "</div>"
      ],
      "text/plain": [
       "      Name  Age\n",
       "0   Adrian   20\n",
       "1  Bethany   23\n",
       "2    Chloe   41"
      ]
     },
     "execution_count": 33,
     "metadata": {},
     "output_type": "execute_result"
    }
   ],
   "source": [
    "# Creating a DataFrame from a list\n",
    "data = [[\"Adrian\", 20],[\"Bethany\", 23], [\"Chloe\", 41]]\n",
    "\n",
    "#When we create a DataFrame, we can specify what the column names are and the data type is\n",
    "df = pd.DataFrame(data, columns=[\"Name\", \"Age\"])\n",
    "df"
   ]
  },
  {
   "cell_type": "markdown",
   "id": "9baef900-fedc-4ab8-b553-26771922a727",
   "metadata": {},
   "source": [
    "# Python Pandas Research/Practice"
   ]
  },
  {
   "cell_type": "code",
   "execution_count": 27,
   "id": "1876fc0b-eeae-43ab-b8e7-bf8f757a5d38",
   "metadata": {},
   "outputs": [
    {
     "data": {
      "text/html": [
       "<div>\n",
       "<style scoped>\n",
       "    .dataframe tbody tr th:only-of-type {\n",
       "        vertical-align: middle;\n",
       "    }\n",
       "\n",
       "    .dataframe tbody tr th {\n",
       "        vertical-align: top;\n",
       "    }\n",
       "\n",
       "    .dataframe thead th {\n",
       "        text-align: right;\n",
       "    }\n",
       "</style>\n",
       "<table border=\"1\" class=\"dataframe\">\n",
       "  <thead>\n",
       "    <tr style=\"text-align: right;\">\n",
       "      <th></th>\n",
       "      <th>FirstName</th>\n",
       "      <th>LastName</th>\n",
       "      <th>Age</th>\n",
       "    </tr>\n",
       "  </thead>\n",
       "  <tbody>\n",
       "    <tr>\n",
       "      <th>0</th>\n",
       "      <td>John</td>\n",
       "      <td>Brown</td>\n",
       "      <td>25</td>\n",
       "    </tr>\n",
       "    <tr>\n",
       "      <th>1</th>\n",
       "      <td>Andrew</td>\n",
       "      <td>Purple</td>\n",
       "      <td>48</td>\n",
       "    </tr>\n",
       "    <tr>\n",
       "      <th>2</th>\n",
       "      <td>Maria</td>\n",
       "      <td>White</td>\n",
       "      <td>76</td>\n",
       "    </tr>\n",
       "    <tr>\n",
       "      <th>3</th>\n",
       "      <td>Helen</td>\n",
       "      <td>Blue</td>\n",
       "      <td>19</td>\n",
       "    </tr>\n",
       "  </tbody>\n",
       "</table>\n",
       "</div>"
      ],
      "text/plain": [
       "  FirstName LastName  Age\n",
       "0      John    Brown   25\n",
       "1    Andrew   Purple   48\n",
       "2     Maria    White   76\n",
       "3     Helen     Blue   19"
      ]
     },
     "execution_count": 27,
     "metadata": {},
     "output_type": "execute_result"
    }
   ],
   "source": [
    "# Creating DF from a dictionary\n",
    "\n",
    "# Create a dictionary\n",
    "dict = {\n",
    "  'FirstName': ['John', 'Andrew', 'Maria', 'Helen'],\n",
    "  'LastName': ['Brown', 'Purple', 'White', 'Blue'],\n",
    "  'Age': [25, 48, 76, 19]\n",
    "}\n",
    "\n",
    "# Make it DF with DataFrame command\n",
    "df = pd.DataFrame(dict)\n",
    "df"
   ]
  },
  {
   "cell_type": "code",
   "execution_count": 24,
   "id": "ce25966b-1021-46b9-adfa-af1cc0884102",
   "metadata": {},
   "outputs": [
    {
     "data": {
      "text/html": [
       "<div>\n",
       "<style scoped>\n",
       "    .dataframe tbody tr th:only-of-type {\n",
       "        vertical-align: middle;\n",
       "    }\n",
       "\n",
       "    .dataframe tbody tr th {\n",
       "        vertical-align: top;\n",
       "    }\n",
       "\n",
       "    .dataframe thead th {\n",
       "        text-align: right;\n",
       "    }\n",
       "</style>\n",
       "<table border=\"1\" class=\"dataframe\">\n",
       "  <thead>\n",
       "    <tr style=\"text-align: right;\">\n",
       "      <th></th>\n",
       "      <th>FirstName</th>\n",
       "      <th>LastName</th>\n",
       "      <th>Age</th>\n",
       "    </tr>\n",
       "    <tr>\n",
       "      <th>CustomColumn</th>\n",
       "      <th></th>\n",
       "      <th></th>\n",
       "      <th></th>\n",
       "    </tr>\n",
       "  </thead>\n",
       "  <tbody>\n",
       "    <tr>\n",
       "      <th>First</th>\n",
       "      <td>John</td>\n",
       "      <td>Brown</td>\n",
       "      <td>25</td>\n",
       "    </tr>\n",
       "    <tr>\n",
       "      <th>Second</th>\n",
       "      <td>Andrew</td>\n",
       "      <td>Purple</td>\n",
       "      <td>48</td>\n",
       "    </tr>\n",
       "    <tr>\n",
       "      <th>Third</th>\n",
       "      <td>Maria</td>\n",
       "      <td>White</td>\n",
       "      <td>76</td>\n",
       "    </tr>\n",
       "    <tr>\n",
       "      <th>Fourth</th>\n",
       "      <td>Helen</td>\n",
       "      <td>Blue</td>\n",
       "      <td>19</td>\n",
       "    </tr>\n",
       "  </tbody>\n",
       "</table>\n",
       "</div>"
      ],
      "text/plain": [
       "             FirstName LastName  Age\n",
       "CustomColumn                        \n",
       "First             John    Brown   25\n",
       "Second          Andrew   Purple   48\n",
       "Third            Maria    White   76\n",
       "Fourth           Helen     Blue   19"
      ]
     },
     "execution_count": 24,
     "metadata": {},
     "output_type": "execute_result"
    }
   ],
   "source": [
    "# Adding a custom index\n",
    "\n",
    "# First we can add a custom column to make index later (we could also use existing column)\n",
    "CustomC = ['First', 'Second', 'Third', 'Fourth'] # Create a new column\n",
    "df ['CustomColumn'] = CustomC # Append to existing DF as a column 'CustomColumn'\n",
    "\n",
    "#Make the new column an index\n",
    "df.set_index('CustomColumn', inplace=True)\n",
    "df"
   ]
  },
  {
   "cell_type": "code",
   "execution_count": 36,
   "id": "d96df3a8-a5a9-445a-8f84-a9beeaf8eb09",
   "metadata": {},
   "outputs": [
    {
     "data": {
      "text/html": [
       "<div>\n",
       "<style scoped>\n",
       "    .dataframe tbody tr th:only-of-type {\n",
       "        vertical-align: middle;\n",
       "    }\n",
       "\n",
       "    .dataframe tbody tr th {\n",
       "        vertical-align: top;\n",
       "    }\n",
       "\n",
       "    .dataframe thead th {\n",
       "        text-align: right;\n",
       "    }\n",
       "</style>\n",
       "<table border=\"1\" class=\"dataframe\">\n",
       "  <thead>\n",
       "    <tr style=\"text-align: right;\">\n",
       "      <th></th>\n",
       "      <th>FirstName</th>\n",
       "      <th>LastName</th>\n",
       "      <th>Age</th>\n",
       "    </tr>\n",
       "  </thead>\n",
       "  <tbody>\n",
       "    <tr>\n",
       "      <th>0</th>\n",
       "      <td>John</td>\n",
       "      <td>Brown</td>\n",
       "      <td>25</td>\n",
       "    </tr>\n",
       "    <tr>\n",
       "      <th>1</th>\n",
       "      <td>Andrew</td>\n",
       "      <td>Purple</td>\n",
       "      <td>48</td>\n",
       "    </tr>\n",
       "    <tr>\n",
       "      <th>2</th>\n",
       "      <td>Maria</td>\n",
       "      <td>White</td>\n",
       "      <td>76</td>\n",
       "    </tr>\n",
       "    <tr>\n",
       "      <th>3</th>\n",
       "      <td>Helen</td>\n",
       "      <td>Blue</td>\n",
       "      <td>19</td>\n",
       "    </tr>\n",
       "  </tbody>\n",
       "</table>\n",
       "</div>"
      ],
      "text/plain": [
       "  FirstName LastName  Age\n",
       "0      John    Brown   25\n",
       "1    Andrew   Purple   48\n",
       "2     Maria    White   76\n",
       "3     Helen     Blue   19"
      ]
     },
     "execution_count": 36,
     "metadata": {},
     "output_type": "execute_result"
    }
   ],
   "source": [
    "# Creating a DF from a list of dictionaries\n",
    "\n",
    "# Using the same dictionary as above, only now it's a list of dictionaries\n",
    "dict = [\n",
    "    {'FirstName': 'John', 'LastName': 'Brown', 'Age': 25},\n",
    "    {'FirstName': 'Andrew', 'LastName': 'Purple', 'Age': 48},\n",
    "    {'FirstName': 'Maria', 'LastName': 'White', 'Age': 76},\n",
    "    {'FirstName': 'Helen', 'LastName': 'Blue', 'Age': 19}\n",
    "]\n",
    "\n",
    "# Make it DF with DataFrame command\n",
    "df = pd.DataFrame(dict)\n",
    "\n",
    "df"
   ]
  },
  {
   "cell_type": "code",
   "execution_count": 34,
   "id": "4fd96a90-0b32-4c3c-9ed0-8c44a6ae52bb",
   "metadata": {},
   "outputs": [
    {
     "data": {
      "text/html": [
       "<div>\n",
       "<style scoped>\n",
       "    .dataframe tbody tr th:only-of-type {\n",
       "        vertical-align: middle;\n",
       "    }\n",
       "\n",
       "    .dataframe tbody tr th {\n",
       "        vertical-align: top;\n",
       "    }\n",
       "\n",
       "    .dataframe thead th {\n",
       "        text-align: right;\n",
       "    }\n",
       "</style>\n",
       "<table border=\"1\" class=\"dataframe\">\n",
       "  <thead>\n",
       "    <tr style=\"text-align: right;\">\n",
       "      <th></th>\n",
       "      <th>Author</th>\n",
       "      <th>Article</th>\n",
       "    </tr>\n",
       "  </thead>\n",
       "  <tbody>\n",
       "    <tr>\n",
       "      <th>0</th>\n",
       "      <td>Don</td>\n",
       "      <td>25</td>\n",
       "    </tr>\n",
       "    <tr>\n",
       "      <th>1</th>\n",
       "      <td>Mike</td>\n",
       "      <td>48</td>\n",
       "    </tr>\n",
       "    <tr>\n",
       "      <th>2</th>\n",
       "      <td>Sally</td>\n",
       "      <td>55</td>\n",
       "    </tr>\n",
       "    <tr>\n",
       "      <th>3</th>\n",
       "      <td>Edwin</td>\n",
       "      <td>34</td>\n",
       "    </tr>\n",
       "    <tr>\n",
       "      <th>4</th>\n",
       "      <td>Lucy</td>\n",
       "      <td>19</td>\n",
       "    </tr>\n",
       "  </tbody>\n",
       "</table>\n",
       "</div>"
      ],
      "text/plain": [
       "  Author  Article\n",
       "0    Don       25\n",
       "1   Mike       48\n",
       "2  Sally       55\n",
       "3  Edwin       34\n",
       "4   Lucy       19"
      ]
     },
     "execution_count": 34,
     "metadata": {},
     "output_type": "execute_result"
    }
   ],
   "source": [
    "# Creating a DF from a Series\n",
    "\n",
    "# Creating two lists first\n",
    "name = ['Don', 'Mike', 'Sally', 'Edwin', 'Lucy']\n",
    "age = [25, 48, 55, 34, 19]\n",
    "# Creating two Series by passing lists\n",
    "name_series = pd.Series(name)\n",
    "age_series = pd.Series(age)\n",
    " \n",
    "# Creating a dictionary by passing Series objects as values\n",
    "dict = {'Author': name_series,\n",
    "         'Article': age_series}\n",
    " \n",
    "# Creating DataFrame by passing Dictionary\n",
    "df = pd.DataFrame(dict)\n",
    "df\n"
   ]
  },
  {
   "cell_type": "code",
   "execution_count": 53,
   "id": "81822ac3-e33b-489c-abd6-32e62174a5b8",
   "metadata": {},
   "outputs": [
    {
     "data": {
      "text/html": [
       "<div>\n",
       "<style scoped>\n",
       "    .dataframe tbody tr th:only-of-type {\n",
       "        vertical-align: middle;\n",
       "    }\n",
       "\n",
       "    .dataframe tbody tr th {\n",
       "        vertical-align: top;\n",
       "    }\n",
       "\n",
       "    .dataframe thead th {\n",
       "        text-align: right;\n",
       "    }\n",
       "</style>\n",
       "<table border=\"1\" class=\"dataframe\">\n",
       "  <thead>\n",
       "    <tr style=\"text-align: right;\">\n",
       "      <th></th>\n",
       "      <th>FirstName</th>\n",
       "      <th>LastName</th>\n",
       "      <th>Age</th>\n",
       "      <th>City</th>\n",
       "    </tr>\n",
       "  </thead>\n",
       "  <tbody>\n",
       "    <tr>\n",
       "      <th>0</th>\n",
       "      <td>John</td>\n",
       "      <td>Brown</td>\n",
       "      <td>25</td>\n",
       "      <td>London</td>\n",
       "    </tr>\n",
       "    <tr>\n",
       "      <th>1</th>\n",
       "      <td>Andrew</td>\n",
       "      <td>Purple</td>\n",
       "      <td>48</td>\n",
       "      <td>Manchester</td>\n",
       "    </tr>\n",
       "    <tr>\n",
       "      <th>2</th>\n",
       "      <td>Maria</td>\n",
       "      <td>White</td>\n",
       "      <td>76</td>\n",
       "      <td>Liverpool</td>\n",
       "    </tr>\n",
       "    <tr>\n",
       "      <th>3</th>\n",
       "      <td>Helen</td>\n",
       "      <td>Blue</td>\n",
       "      <td>19</td>\n",
       "      <td>Glasgow</td>\n",
       "    </tr>\n",
       "  </tbody>\n",
       "</table>\n",
       "</div>"
      ],
      "text/plain": [
       "  FirstName LastName  Age        City\n",
       "0      John    Brown   25      London\n",
       "1    Andrew   Purple   48  Manchester\n",
       "2     Maria    White   76   Liverpool\n",
       "3     Helen     Blue   19     Glasgow"
      ]
     },
     "execution_count": 53,
     "metadata": {},
     "output_type": "execute_result"
    }
   ],
   "source": [
    "# Adding a Series to an existing DF\n",
    "\n",
    "# Create a dictionary\n",
    "dict = [\n",
    "    {'FirstName': 'John', 'LastName': 'Brown', 'Age': 25},\n",
    "    {'FirstName': 'Andrew', 'LastName': 'Purple', 'Age': 48},\n",
    "    {'FirstName': 'Maria', 'LastName': 'White', 'Age': 76},\n",
    "    {'FirstName': 'Helen', 'LastName': 'Blue', 'Age': 19}\n",
    "]\n",
    "# Make it DF with DataFrame command\n",
    "df = pd.DataFrame(dict)\n",
    "\n",
    "# Define a new Series, first as list, then Series\n",
    "city = ['London', 'Manchester', 'Liverpool', 'Glasgow']\n",
    "city_series = pd.Series(city)\n",
    "\n",
    "# Append to existing DF as a column 'City'\n",
    "df ['City'] = city_series\n",
    "\n",
    "df\n"
   ]
  },
  {
   "cell_type": "code",
   "execution_count": 60,
   "id": "7aefc42f-ad9d-4a8c-a792-1d59c39d103f",
   "metadata": {},
   "outputs": [
    {
     "name": "stdout",
     "output_type": "stream",
     "text": [
      "  FirstName LastName   Age        City\n",
      "0      None     None   NaN        None\n",
      "1      John    Brown  25.0      London\n",
      "2    Andrew   Purple  48.0  Manchester\n",
      "3     Maria    White  76.0   Liverpool\n"
     ]
    }
   ],
   "source": [
    "# Shifting/Changing a DF's index\n",
    "\n",
    "# df.shift shifts the index, axis defines is it a column or a row\n",
    "print(df.shift(1, axis=0))\n"
   ]
  },
  {
   "cell_type": "code",
   "execution_count": 67,
   "id": "344c72cf-6c0a-4f4e-b6d0-789fa9aa1055",
   "metadata": {},
   "outputs": [
    {
     "data": {
      "text/html": [
       "<div>\n",
       "<style scoped>\n",
       "    .dataframe tbody tr th:only-of-type {\n",
       "        vertical-align: middle;\n",
       "    }\n",
       "\n",
       "    .dataframe tbody tr th {\n",
       "        vertical-align: top;\n",
       "    }\n",
       "\n",
       "    .dataframe thead th {\n",
       "        text-align: right;\n",
       "    }\n",
       "</style>\n",
       "<table border=\"1\" class=\"dataframe\">\n",
       "  <thead>\n",
       "    <tr style=\"text-align: right;\">\n",
       "      <th></th>\n",
       "      <th>FirstName</th>\n",
       "      <th>LastName</th>\n",
       "      <th>Age</th>\n",
       "    </tr>\n",
       "  </thead>\n",
       "  <tbody>\n",
       "    <tr>\n",
       "      <th>0</th>\n",
       "      <td>John</td>\n",
       "      <td>0</td>\n",
       "      <td>25</td>\n",
       "    </tr>\n",
       "    <tr>\n",
       "      <th>1</th>\n",
       "      <td>Andrew</td>\n",
       "      <td>Purple</td>\n",
       "      <td>48</td>\n",
       "    </tr>\n",
       "    <tr>\n",
       "      <th>2</th>\n",
       "      <td>Maria</td>\n",
       "      <td>0</td>\n",
       "      <td>76</td>\n",
       "    </tr>\n",
       "    <tr>\n",
       "      <th>3</th>\n",
       "      <td>Helen</td>\n",
       "      <td>0</td>\n",
       "      <td>19</td>\n",
       "    </tr>\n",
       "  </tbody>\n",
       "</table>\n",
       "</div>"
      ],
      "text/plain": [
       "  FirstName LastName  Age\n",
       "0      John        0   25\n",
       "1    Andrew   Purple   48\n",
       "2     Maria        0   76\n",
       "3     Helen        0   19"
      ]
     },
     "execution_count": 67,
     "metadata": {},
     "output_type": "execute_result"
    }
   ],
   "source": [
    "# Fill in missing data\n",
    "\n",
    "# Create a dictionary\n",
    "dict = [\n",
    "    {'FirstName': 'John', 'LastName': np.nan, 'Age': 25},\n",
    "    {'FirstName': 'Andrew', 'LastName': 'Purple', 'Age': 48},\n",
    "    {'FirstName': 'Maria', 'LastName': np.nan, 'Age': 76},\n",
    "    {'FirstName': 'Helen', 'LastName': np.nan, 'Age': 19}\n",
    "]\n",
    "# Make it DF with DataFrame command\n",
    "df = pd.DataFrame(dict)\n",
    "\n",
    "# Filling missing values with 0 with fillna command\n",
    "df.fillna(0)"
   ]
  },
  {
   "cell_type": "code",
   "execution_count": 77,
   "id": "ef073b97-2480-4399-b9b7-78a867cbcf30",
   "metadata": {},
   "outputs": [
    {
     "data": {
      "text/html": [
       "<div>\n",
       "<style scoped>\n",
       "    .dataframe tbody tr th:only-of-type {\n",
       "        vertical-align: middle;\n",
       "    }\n",
       "\n",
       "    .dataframe tbody tr th {\n",
       "        vertical-align: top;\n",
       "    }\n",
       "\n",
       "    .dataframe thead th {\n",
       "        text-align: right;\n",
       "    }\n",
       "</style>\n",
       "<table border=\"1\" class=\"dataframe\">\n",
       "  <thead>\n",
       "    <tr style=\"text-align: right;\">\n",
       "      <th></th>\n",
       "      <th>FirstName</th>\n",
       "      <th>LastName</th>\n",
       "      <th>Age</th>\n",
       "    </tr>\n",
       "  </thead>\n",
       "  <tbody>\n",
       "    <tr>\n",
       "      <th>0</th>\n",
       "      <td>John</td>\n",
       "      <td>Purple</td>\n",
       "      <td>25</td>\n",
       "    </tr>\n",
       "    <tr>\n",
       "      <th>1</th>\n",
       "      <td>Andrew</td>\n",
       "      <td>Purple</td>\n",
       "      <td>48</td>\n",
       "    </tr>\n",
       "    <tr>\n",
       "      <th>2</th>\n",
       "      <td>Maria</td>\n",
       "      <td>NaN</td>\n",
       "      <td>76</td>\n",
       "    </tr>\n",
       "    <tr>\n",
       "      <th>3</th>\n",
       "      <td>Helen</td>\n",
       "      <td>NaN</td>\n",
       "      <td>19</td>\n",
       "    </tr>\n",
       "  </tbody>\n",
       "</table>\n",
       "</div>"
      ],
      "text/plain": [
       "  FirstName LastName  Age\n",
       "0      John   Purple   25\n",
       "1    Andrew   Purple   48\n",
       "2     Maria      NaN   76\n",
       "3     Helen      NaN   19"
      ]
     },
     "execution_count": 77,
     "metadata": {},
     "output_type": "execute_result"
    }
   ],
   "source": [
    "# Fill in missing data - backfill + bfill\n",
    "\n",
    "# Create a dictionary\n",
    "dict = [\n",
    "    {'FirstName': 'John', 'LastName': np.nan, 'Age': 25},\n",
    "    {'FirstName': 'Andrew', 'LastName': 'Purple', 'Age': 48},\n",
    "    {'FirstName': 'Maria', 'LastName': np.nan, 'Age': 76},\n",
    "    {'FirstName': 'Helen', 'LastName': np.nan, 'Age': 19}\n",
    "]\n",
    "# Make it DF with DataFrame command\n",
    "df = pd.DataFrame(dict)\n",
    "\n",
    "# Filling missing values with 0 with backfill command\n",
    "#df.fillna(method='backfill')\n",
    "\n",
    "# Future-proof\n",
    "\n",
    "# Filling missing values with 0 with bfill\n",
    "df.bfill()"
   ]
  },
  {
   "cell_type": "code",
   "execution_count": 76,
   "id": "8f1e7003-c56e-4ed6-81f5-3c937330de50",
   "metadata": {},
   "outputs": [
    {
     "data": {
      "text/html": [
       "<div>\n",
       "<style scoped>\n",
       "    .dataframe tbody tr th:only-of-type {\n",
       "        vertical-align: middle;\n",
       "    }\n",
       "\n",
       "    .dataframe tbody tr th {\n",
       "        vertical-align: top;\n",
       "    }\n",
       "\n",
       "    .dataframe thead th {\n",
       "        text-align: right;\n",
       "    }\n",
       "</style>\n",
       "<table border=\"1\" class=\"dataframe\">\n",
       "  <thead>\n",
       "    <tr style=\"text-align: right;\">\n",
       "      <th></th>\n",
       "      <th>FirstName</th>\n",
       "      <th>LastName</th>\n",
       "      <th>Age</th>\n",
       "    </tr>\n",
       "  </thead>\n",
       "  <tbody>\n",
       "    <tr>\n",
       "      <th>0</th>\n",
       "      <td>John</td>\n",
       "      <td>NaN</td>\n",
       "      <td>25</td>\n",
       "    </tr>\n",
       "    <tr>\n",
       "      <th>1</th>\n",
       "      <td>Andrew</td>\n",
       "      <td>Purple</td>\n",
       "      <td>48</td>\n",
       "    </tr>\n",
       "    <tr>\n",
       "      <th>2</th>\n",
       "      <td>Maria</td>\n",
       "      <td>Purple</td>\n",
       "      <td>76</td>\n",
       "    </tr>\n",
       "    <tr>\n",
       "      <th>3</th>\n",
       "      <td>Helen</td>\n",
       "      <td>Purple</td>\n",
       "      <td>19</td>\n",
       "    </tr>\n",
       "  </tbody>\n",
       "</table>\n",
       "</div>"
      ],
      "text/plain": [
       "  FirstName LastName  Age\n",
       "0      John      NaN   25\n",
       "1    Andrew   Purple   48\n",
       "2     Maria   Purple   76\n",
       "3     Helen   Purple   19"
      ]
     },
     "execution_count": 76,
     "metadata": {},
     "output_type": "execute_result"
    }
   ],
   "source": [
    "# Fill in missing data - pad + ffill\n",
    "\n",
    "# Create a dictionary\n",
    "dict = [\n",
    "    {'FirstName': 'John', 'LastName': np.nan, 'Age': 25},\n",
    "    {'FirstName': 'Andrew', 'LastName': 'Purple', 'Age': 48},\n",
    "    {'FirstName': 'Maria', 'LastName': np.nan, 'Age': 76},\n",
    "    {'FirstName': 'Helen', 'LastName': np.nan, 'Age': 19}\n",
    "]\n",
    "# Make it DF with DataFrame command\n",
    "df = pd.DataFrame(dict)\n",
    "\n",
    "# Filling missing values with 0 with backfill command\n",
    "#df.fillna(method='pad')\n",
    "\n",
    "# Filling missing values with 0 with ffill\n",
    "df.ffill()"
   ]
  },
  {
   "cell_type": "code",
   "execution_count": 94,
   "id": "028b45a3-fb97-4d1e-938e-ebbc145a4966",
   "metadata": {},
   "outputs": [
    {
     "name": "stdout",
     "output_type": "stream",
     "text": [
      "  FirstName LastName  Age\n",
      "0      John    Brown    0\n",
      "1    Andrew   Purple   48\n",
      "2     Maria    White    0\n",
      "3     Helen     Blue   19\n"
     ]
    },
    {
     "name": "stderr",
     "output_type": "stream",
     "text": [
      "/var/folders/_d/1b2bwsj97vl8l973k2_204tc0000gn/T/ipykernel_93234/491880584.py:19: FutureWarning: DataFrame.interpolate with object dtype is deprecated and will raise in a future version. Call obj.infer_objects(copy=False) before interpolating instead.\n",
      "  df.interpolate(method ='linear', limit_direction ='forward')\n"
     ]
    }
   ],
   "source": [
    "# What does .interpolate() do?\n",
    "# Python Pandas interpolate() method is used to fill NaN values in the DataFrame or Series \n",
    "# using various interpolation techniques to fill the missing values rather than hard-coding the value.\n",
    "\n",
    "# Create a dictionary\n",
    "dict = dict = [\n",
    "    {'FirstName': 'John', 'LastName': 'Brown', 'Age': np.nan},\n",
    "    {'FirstName': 'Andrew', 'LastName': 'Purple', 'Age': 48},\n",
    "    {'FirstName': 'Maria', 'LastName': 'White', 'Age': np.nan},\n",
    "    {'FirstName': 'Helen', 'LastName': 'Blue', 'Age': 19}\n",
    "]\n",
    "# Make it DF with DataFrame command\n",
    "df = pd.DataFrame(dict)\n",
    "\n",
    "df['Age'] = df.col.replace(0, np.nan)\n",
    "\n",
    "# to interpolate the missing values \n",
    "#d = df.infer_objects(copy=False)\n",
    "df.interpolate(method ='linear', limit_direction ='forward')\n",
    "print(df)"
   ]
  },
  {
   "cell_type": "code",
   "execution_count": null,
   "id": "995af7a4-c048-40ca-8088-3ea73ae770f8",
   "metadata": {},
   "outputs": [],
   "source": [
    "# How to drop values"
   ]
  },
  {
   "cell_type": "code",
   "execution_count": 100,
   "id": "6dd7a363-84a7-46ea-a4b6-7ef5e1b96664",
   "metadata": {},
   "outputs": [
    {
     "data": {
      "text/html": [
       "<div>\n",
       "<style scoped>\n",
       "    .dataframe tbody tr th:only-of-type {\n",
       "        vertical-align: middle;\n",
       "    }\n",
       "\n",
       "    .dataframe tbody tr th {\n",
       "        vertical-align: top;\n",
       "    }\n",
       "\n",
       "    .dataframe thead th {\n",
       "        text-align: right;\n",
       "    }\n",
       "</style>\n",
       "<table border=\"1\" class=\"dataframe\">\n",
       "  <thead>\n",
       "    <tr style=\"text-align: right;\">\n",
       "      <th></th>\n",
       "      <th>FirstName</th>\n",
       "      <th>LastName</th>\n",
       "      <th>Age</th>\n",
       "    </tr>\n",
       "  </thead>\n",
       "  <tbody>\n",
       "    <tr>\n",
       "      <th>1</th>\n",
       "      <td>Andrew</td>\n",
       "      <td>Purple</td>\n",
       "      <td>48</td>\n",
       "    </tr>\n",
       "    <tr>\n",
       "      <th>2</th>\n",
       "      <td>Maria</td>\n",
       "      <td>White</td>\n",
       "      <td>76</td>\n",
       "    </tr>\n",
       "    <tr>\n",
       "      <th>3</th>\n",
       "      <td>Helen</td>\n",
       "      <td>Blue</td>\n",
       "      <td>19</td>\n",
       "    </tr>\n",
       "  </tbody>\n",
       "</table>\n",
       "</div>"
      ],
      "text/plain": [
       "  FirstName LastName  Age\n",
       "1    Andrew   Purple   48\n",
       "2     Maria    White   76\n",
       "3     Helen     Blue   19"
      ]
     },
     "execution_count": 100,
     "metadata": {},
     "output_type": "execute_result"
    }
   ],
   "source": [
    "# Drop rows or columns\n",
    "\n",
    "# Create a dictionary\n",
    "dict = [\n",
    "    {'FirstName': 'John', 'LastName': 'Brown', 'Age': 25},\n",
    "    {'FirstName': 'Andrew', 'LastName': 'Purple', 'Age': 48},\n",
    "    {'FirstName': 'Maria', 'LastName': 'White', 'Age': 76},\n",
    "    {'FirstName': 'Helen', 'LastName': 'Blue', 'Age': 19}\n",
    "]\n",
    "# Make it DF with DataFrame command\n",
    "df = pd.DataFrame(dict)\n",
    "\n",
    "# To drop column Age\n",
    "newdf = df.drop('Age', axis='columns')\n",
    "newdf\n",
    "\n",
    "# To drop row 0\n",
    "newdf = df.drop(0, axis='index')\n",
    "newdf"
   ]
  },
  {
   "cell_type": "code",
   "execution_count": 101,
   "id": "5970b84e-73c1-4149-bc91-3c1159f29611",
   "metadata": {},
   "outputs": [
    {
     "data": {
      "text/html": [
       "<div>\n",
       "<style scoped>\n",
       "    .dataframe tbody tr th:only-of-type {\n",
       "        vertical-align: middle;\n",
       "    }\n",
       "\n",
       "    .dataframe tbody tr th {\n",
       "        vertical-align: top;\n",
       "    }\n",
       "\n",
       "    .dataframe thead th {\n",
       "        text-align: right;\n",
       "    }\n",
       "</style>\n",
       "<table border=\"1\" class=\"dataframe\">\n",
       "  <thead>\n",
       "    <tr style=\"text-align: right;\">\n",
       "      <th></th>\n",
       "      <th>FirstName</th>\n",
       "      <th>LastName</th>\n",
       "      <th>Age</th>\n",
       "    </tr>\n",
       "  </thead>\n",
       "  <tbody>\n",
       "    <tr>\n",
       "      <th>0</th>\n",
       "      <td>John</td>\n",
       "      <td>Brown</td>\n",
       "      <td>25</td>\n",
       "    </tr>\n",
       "    <tr>\n",
       "      <th>1</th>\n",
       "      <td>Andrew</td>\n",
       "      <td>Purple</td>\n",
       "      <td>48</td>\n",
       "    </tr>\n",
       "    <tr>\n",
       "      <th>2</th>\n",
       "      <td>Maria</td>\n",
       "      <td>White</td>\n",
       "      <td>76</td>\n",
       "    </tr>\n",
       "  </tbody>\n",
       "</table>\n",
       "</div>"
      ],
      "text/plain": [
       "  FirstName LastName  Age\n",
       "0      John    Brown   25\n",
       "1    Andrew   Purple   48\n",
       "2     Maria    White   76"
      ]
     },
     "execution_count": 101,
     "metadata": {},
     "output_type": "execute_result"
    }
   ],
   "source": [
    "# Drop based on a threshold\n",
    "\n",
    "# Create a dictionary\n",
    "dict = [\n",
    "    {'FirstName': 'John', 'LastName': 'Brown', 'Age': 25},\n",
    "    {'FirstName': 'Andrew', 'LastName': 'Purple', 'Age': 48},\n",
    "    {'FirstName': 'Maria', 'LastName': 'White', 'Age': 76},\n",
    "    {'FirstName': 'Helen', 'LastName': 'Blue', 'Age': 19}\n",
    "]\n",
    "# Make it DF with DataFrame command\n",
    "df = pd.DataFrame(dict)\n",
    "\n",
    "# define a condition\n",
    "df = df[df.Age > 19]\n",
    "\n",
    "df"
   ]
  },
  {
   "cell_type": "code",
   "execution_count": 103,
   "id": "70e0d7ae-b52e-4c6b-8ea1-1425c83720ab",
   "metadata": {},
   "outputs": [
    {
     "data": {
      "text/html": [
       "<div>\n",
       "<style scoped>\n",
       "    .dataframe tbody tr th:only-of-type {\n",
       "        vertical-align: middle;\n",
       "    }\n",
       "\n",
       "    .dataframe tbody tr th {\n",
       "        vertical-align: top;\n",
       "    }\n",
       "\n",
       "    .dataframe thead th {\n",
       "        text-align: right;\n",
       "    }\n",
       "</style>\n",
       "<table border=\"1\" class=\"dataframe\">\n",
       "  <thead>\n",
       "    <tr style=\"text-align: right;\">\n",
       "      <th></th>\n",
       "      <th>FirstName</th>\n",
       "      <th>LastName</th>\n",
       "      <th>Age</th>\n",
       "    </tr>\n",
       "  </thead>\n",
       "  <tbody>\n",
       "    <tr>\n",
       "      <th>0</th>\n",
       "      <td>John</td>\n",
       "      <td>Brown</td>\n",
       "      <td>25</td>\n",
       "    </tr>\n",
       "    <tr>\n",
       "      <th>1</th>\n",
       "      <td>Andrew</td>\n",
       "      <td>Purple</td>\n",
       "      <td>48</td>\n",
       "    </tr>\n",
       "    <tr>\n",
       "      <th>3</th>\n",
       "      <td>Helen</td>\n",
       "      <td>Blue</td>\n",
       "      <td>19</td>\n",
       "    </tr>\n",
       "  </tbody>\n",
       "</table>\n",
       "</div>"
      ],
      "text/plain": [
       "  FirstName LastName  Age\n",
       "0      John    Brown   25\n",
       "1    Andrew   Purple   48\n",
       "3     Helen     Blue   19"
      ]
     },
     "execution_count": 103,
     "metadata": {},
     "output_type": "execute_result"
    }
   ],
   "source": [
    "# Drop based on an index\n",
    "\n",
    "# Create a dictionary\n",
    "dict = [\n",
    "    {'FirstName': 'John', 'LastName': 'Brown', 'Age': 25},\n",
    "    {'FirstName': 'Andrew', 'LastName': 'Purple', 'Age': 48},\n",
    "    {'FirstName': 'Maria', 'LastName': 'White', 'Age': 76},\n",
    "    {'FirstName': 'Helen', 'LastName': 'Blue', 'Age': 19}\n",
    "]\n",
    "# Make it DF with DataFrame command\n",
    "df = pd.DataFrame(dict)\n",
    "\n",
    "# To drop row 2\n",
    "newdf = df.drop(2, axis='index')\n",
    "newdf"
   ]
  },
  {
   "cell_type": "code",
   "execution_count": 107,
   "id": "957c608f-0109-42cf-ae7d-7aa4915a4587",
   "metadata": {},
   "outputs": [
    {
     "data": {
      "text/html": [
       "<div>\n",
       "<style scoped>\n",
       "    .dataframe tbody tr th:only-of-type {\n",
       "        vertical-align: middle;\n",
       "    }\n",
       "\n",
       "    .dataframe tbody tr th {\n",
       "        vertical-align: top;\n",
       "    }\n",
       "\n",
       "    .dataframe thead th {\n",
       "        text-align: right;\n",
       "    }\n",
       "</style>\n",
       "<table border=\"1\" class=\"dataframe\">\n",
       "  <thead>\n",
       "    <tr style=\"text-align: right;\">\n",
       "      <th></th>\n",
       "      <th>FirstName</th>\n",
       "      <th>LastName</th>\n",
       "      <th>Age</th>\n",
       "    </tr>\n",
       "  </thead>\n",
       "  <tbody>\n",
       "    <tr>\n",
       "      <th>0</th>\n",
       "      <td>John</td>\n",
       "      <td>Brown</td>\n",
       "      <td>25</td>\n",
       "    </tr>\n",
       "    <tr>\n",
       "      <th>1</th>\n",
       "      <td>Andrew</td>\n",
       "      <td>Purple</td>\n",
       "      <td>48</td>\n",
       "    </tr>\n",
       "    <tr>\n",
       "      <th>3</th>\n",
       "      <td>Maria</td>\n",
       "      <td>White</td>\n",
       "      <td>76</td>\n",
       "    </tr>\n",
       "    <tr>\n",
       "      <th>4</th>\n",
       "      <td>Helen</td>\n",
       "      <td>Blue</td>\n",
       "      <td>19</td>\n",
       "    </tr>\n",
       "  </tbody>\n",
       "</table>\n",
       "</div>"
      ],
      "text/plain": [
       "  FirstName LastName  Age\n",
       "0      John    Brown   25\n",
       "1    Andrew   Purple   48\n",
       "3     Maria    White   76\n",
       "4     Helen     Blue   19"
      ]
     },
     "execution_count": 107,
     "metadata": {},
     "output_type": "execute_result"
    }
   ],
   "source": [
    "# Remove duplicate rows\n",
    "\n",
    "# Create a dictionary\n",
    "dict = [\n",
    "    {'FirstName': 'John', 'LastName': 'Brown', 'Age': 25},\n",
    "    {'FirstName': 'Andrew', 'LastName': 'Purple', 'Age': 48},\n",
    "    {'FirstName': 'Andrew', 'LastName': 'Purple', 'Age': 48},\n",
    "    {'FirstName': 'Maria', 'LastName': 'White', 'Age': 76},\n",
    "    {'FirstName': 'Helen', 'LastName': 'Blue', 'Age': 19},\n",
    "    {'FirstName': 'Helen', 'LastName': 'Blue', 'Age': 19}\n",
    "]\n",
    "# Make it DF with DataFrame command\n",
    "df = pd.DataFrame(dict)\n",
    "\n",
    "# Removing duplicates with drop_duplicates() function\n",
    "newdf = df.drop_duplicates()\n",
    "newdf"
   ]
  },
  {
   "cell_type": "code",
   "execution_count": 113,
   "id": "70adfe38-afb7-4b69-a94b-aeb964c726f3",
   "metadata": {},
   "outputs": [
    {
     "data": {
      "text/html": [
       "<div>\n",
       "<style scoped>\n",
       "    .dataframe tbody tr th:only-of-type {\n",
       "        vertical-align: middle;\n",
       "    }\n",
       "\n",
       "    .dataframe tbody tr th {\n",
       "        vertical-align: top;\n",
       "    }\n",
       "\n",
       "    .dataframe thead th {\n",
       "        text-align: right;\n",
       "    }\n",
       "</style>\n",
       "<table border=\"1\" class=\"dataframe\">\n",
       "  <thead>\n",
       "    <tr style=\"text-align: right;\">\n",
       "      <th></th>\n",
       "      <th>FirstName</th>\n",
       "      <th>LastName</th>\n",
       "      <th>Age</th>\n",
       "    </tr>\n",
       "  </thead>\n",
       "  <tbody>\n",
       "    <tr>\n",
       "      <th>2</th>\n",
       "      <td>Andrew</td>\n",
       "      <td>Purple</td>\n",
       "      <td>48</td>\n",
       "    </tr>\n",
       "    <tr>\n",
       "      <th>5</th>\n",
       "      <td>Helen</td>\n",
       "      <td>Blue</td>\n",
       "      <td>19</td>\n",
       "    </tr>\n",
       "  </tbody>\n",
       "</table>\n",
       "</div>"
      ],
      "text/plain": [
       "  FirstName LastName  Age\n",
       "2    Andrew   Purple   48\n",
       "5     Helen     Blue   19"
      ]
     },
     "execution_count": 113,
     "metadata": {},
     "output_type": "execute_result"
    }
   ],
   "source": [
    "# Find duplicate rows\n",
    "\n",
    "# Create a dictionary\n",
    "dict = [\n",
    "    {'FirstName': 'John', 'LastName': 'Brown', 'Age': 25},\n",
    "    {'FirstName': 'Andrew', 'LastName': 'Purple', 'Age': 48},\n",
    "    {'FirstName': 'Andrew', 'LastName': 'Purple', 'Age': 48},\n",
    "    {'FirstName': 'Maria', 'LastName': 'White', 'Age': 76},\n",
    "    {'FirstName': 'Helen', 'LastName': 'Blue', 'Age': 19},\n",
    "    {'FirstName': 'Helen', 'LastName': 'Blue', 'Age': 19}\n",
    "]\n",
    "# Make it DF with DataFrame command\n",
    "df = pd.DataFrame(dict)\n",
    "\n",
    "# To show which rows/columns have duplicates (Boolan)\n",
    "newdf = df.duplicated()\n",
    "newdf\n",
    "\n",
    "# If duplicate rows/columns are needed (data)\n",
    "duplicates = df[df.duplicated()]\n",
    "duplicates"
   ]
  },
  {
   "cell_type": "code",
   "execution_count": 121,
   "id": "15270388-91fe-48ae-b70a-aadef2e03975",
   "metadata": {},
   "outputs": [
    {
     "data": {
      "text/plain": [
       "0    25\n",
       "1    48\n",
       "2    76\n",
       "3    19\n",
       "Name: Age, dtype: int64"
      ]
     },
     "execution_count": 121,
     "metadata": {},
     "output_type": "execute_result"
    }
   ],
   "source": [
    "# How to select an entire column\n",
    "\n",
    "# Create a dictionary\n",
    "dict = [\n",
    "    {'FirstName': 'John', 'LastName': 'Brown', 'Age': 25},\n",
    "    {'FirstName': 'Andrew', 'LastName': 'Purple', 'Age': 48},\n",
    "    {'FirstName': 'Maria', 'LastName': 'White', 'Age': 76},\n",
    "    {'FirstName': 'Helen', 'LastName': 'Blue', 'Age': 19}\n",
    "]\n",
    "# Make it DF with DataFrame command\n",
    "df = pd.DataFrame(dict)\n",
    "\n",
    "# select only Age column\n",
    "newdf = df['Age']\n",
    "newdf"
   ]
  },
  {
   "cell_type": "code",
   "execution_count": 128,
   "id": "252afa96-bfbc-493e-ad3b-aa28f18ca97d",
   "metadata": {},
   "outputs": [
    {
     "data": {
      "text/html": [
       "<div>\n",
       "<style scoped>\n",
       "    .dataframe tbody tr th:only-of-type {\n",
       "        vertical-align: middle;\n",
       "    }\n",
       "\n",
       "    .dataframe tbody tr th {\n",
       "        vertical-align: top;\n",
       "    }\n",
       "\n",
       "    .dataframe thead th {\n",
       "        text-align: right;\n",
       "    }\n",
       "</style>\n",
       "<table border=\"1\" class=\"dataframe\">\n",
       "  <thead>\n",
       "    <tr style=\"text-align: right;\">\n",
       "      <th></th>\n",
       "      <th>FirstName</th>\n",
       "      <th>LastName</th>\n",
       "    </tr>\n",
       "  </thead>\n",
       "  <tbody>\n",
       "    <tr>\n",
       "      <th>0</th>\n",
       "      <td>John</td>\n",
       "      <td>Brown</td>\n",
       "    </tr>\n",
       "    <tr>\n",
       "      <th>2</th>\n",
       "      <td>Maria</td>\n",
       "      <td>White</td>\n",
       "    </tr>\n",
       "  </tbody>\n",
       "</table>\n",
       "</div>"
      ],
      "text/plain": [
       "  FirstName LastName\n",
       "0      John    Brown\n",
       "2     Maria    White"
      ]
     },
     "execution_count": 128,
     "metadata": {},
     "output_type": "execute_result"
    }
   ],
   "source": [
    "# iloc, what is it and what can you do with it?\n",
    "#The iloc property gets, or sets, the value(s) of the specified indexes.\n",
    "\n",
    "# Create a dictionary\n",
    "dict = [\n",
    "    {'FirstName': 'John', 'LastName': 'Brown', 'Age': 25},\n",
    "    {'FirstName': 'Andrew', 'LastName': 'Purple', 'Age': 48},\n",
    "    {'FirstName': 'Maria', 'LastName': 'White', 'Age': 76},\n",
    "    {'FirstName': 'Helen', 'LastName': 'Blue', 'Age': 19}\n",
    "]\n",
    "# Make it DF with DataFrame command\n",
    "df = pd.DataFrame(dict)\n",
    "\n",
    "# Can be used to select a single row\n",
    "newdf = df.iloc[[2]]\n",
    "newdf\n",
    "\n",
    "# Or multiple rows\n",
    "newdf = df.iloc[[1,2]]\n",
    "newdf\n",
    "\n",
    "# A range or rows (note single brackets)\n",
    "newdf = df.iloc[0:2]\n",
    "newdf\n",
    "\n",
    "# Can specify both rows and columns to select - first bracket defines rows, second columns\n",
    "newdf = df.iloc[[0, 2], [0, 1]]\n",
    "newdf"
   ]
  },
  {
   "cell_type": "code",
   "execution_count": 139,
   "id": "16dc70d8-eef2-4ed7-b667-166ebf6633df",
   "metadata": {},
   "outputs": [
    {
     "data": {
      "text/html": [
       "<div>\n",
       "<style scoped>\n",
       "    .dataframe tbody tr th:only-of-type {\n",
       "        vertical-align: middle;\n",
       "    }\n",
       "\n",
       "    .dataframe tbody tr th {\n",
       "        vertical-align: top;\n",
       "    }\n",
       "\n",
       "    .dataframe thead th {\n",
       "        text-align: right;\n",
       "    }\n",
       "</style>\n",
       "<table border=\"1\" class=\"dataframe\">\n",
       "  <thead>\n",
       "    <tr style=\"text-align: right;\">\n",
       "      <th></th>\n",
       "      <th>FirstName</th>\n",
       "      <th>LastName</th>\n",
       "      <th>Age</th>\n",
       "    </tr>\n",
       "  </thead>\n",
       "  <tbody>\n",
       "    <tr>\n",
       "      <th>1</th>\n",
       "      <td>Andrew</td>\n",
       "      <td>Purple</td>\n",
       "      <td>48</td>\n",
       "    </tr>\n",
       "    <tr>\n",
       "      <th>2</th>\n",
       "      <td>Maria</td>\n",
       "      <td>White</td>\n",
       "      <td>76</td>\n",
       "    </tr>\n",
       "  </tbody>\n",
       "</table>\n",
       "</div>"
      ],
      "text/plain": [
       "  FirstName LastName  Age\n",
       "1    Andrew   Purple   48\n",
       "2     Maria    White   76"
      ]
     },
     "execution_count": 139,
     "metadata": {},
     "output_type": "execute_result"
    }
   ],
   "source": [
    "# What about loc?\n",
    "# The loc property gets, or sets, the value(s) of the specified labels/indices.\n",
    "\n",
    "# Create a dictionary\n",
    "dict = [\n",
    "    {'FirstName': 'John', 'LastName': 'Brown', 'Age': 25},\n",
    "    {'FirstName': 'Andrew', 'LastName': 'Purple', 'Age': 48},\n",
    "    {'FirstName': 'Maria', 'LastName': 'White', 'Age': 76},\n",
    "    {'FirstName': 'Helen', 'LastName': 'Blue', 'Age': 19}\n",
    "]\n",
    "# Make it DF with DataFrame command\n",
    "df = pd.DataFrame(dict)\n",
    "\n",
    "# To get row with an index 0\n",
    "newdf = df.loc[[0]]\n",
    "newdf\n",
    "\n",
    "# To get rows with an indiced 1 and 2\n",
    "newdf = df.loc[[1,2]]\n",
    "newdf\n",
    "\n",
    "# To get Age in row with an index 0\n",
    "newdf = df.loc[[0],['Age']]\n",
    "newdf"
   ]
  },
  {
   "cell_type": "code",
   "execution_count": 143,
   "id": "c4fcf44c-11d7-402a-a8b9-c8b92b266c7f",
   "metadata": {},
   "outputs": [
    {
     "data": {
      "text/html": [
       "<div>\n",
       "<style scoped>\n",
       "    .dataframe tbody tr th:only-of-type {\n",
       "        vertical-align: middle;\n",
       "    }\n",
       "\n",
       "    .dataframe tbody tr th {\n",
       "        vertical-align: top;\n",
       "    }\n",
       "\n",
       "    .dataframe thead th {\n",
       "        text-align: right;\n",
       "    }\n",
       "</style>\n",
       "<table border=\"1\" class=\"dataframe\">\n",
       "  <thead>\n",
       "    <tr style=\"text-align: right;\">\n",
       "      <th></th>\n",
       "      <th>FirstName</th>\n",
       "      <th>LastName</th>\n",
       "    </tr>\n",
       "  </thead>\n",
       "  <tbody>\n",
       "    <tr>\n",
       "      <th>0</th>\n",
       "      <td>John</td>\n",
       "      <td>Brown</td>\n",
       "    </tr>\n",
       "    <tr>\n",
       "      <th>1</th>\n",
       "      <td>Andrew</td>\n",
       "      <td>Purple</td>\n",
       "    </tr>\n",
       "    <tr>\n",
       "      <th>2</th>\n",
       "      <td>Maria</td>\n",
       "      <td>White</td>\n",
       "    </tr>\n",
       "  </tbody>\n",
       "</table>\n",
       "</div>"
      ],
      "text/plain": [
       "  FirstName LastName\n",
       "0      John    Brown\n",
       "1    Andrew   Purple\n",
       "2     Maria    White"
      ]
     },
     "execution_count": 143,
     "metadata": {},
     "output_type": "execute_result"
    }
   ],
   "source": [
    "# How can you filter to select specific info?\n",
    "\n",
    "# Create a dictionary\n",
    "dict = [\n",
    "    {'FirstName': 'John', 'LastName': 'Brown', 'Age': 25},\n",
    "    {'FirstName': 'Andrew', 'LastName': 'Purple', 'Age': 48},\n",
    "    {'FirstName': 'Maria', 'LastName': 'White', 'Age': 76},\n",
    "    {'FirstName': 'Helen', 'LastName': 'Blue', 'Age': 19}\n",
    "]\n",
    "# Make it DF with DataFrame command\n",
    "df = pd.DataFrame(dict)\n",
    "\n",
    "# define a condition\n",
    "newdf = df[df.Age > 19]\n",
    "newdf\n",
    "\n",
    "# Using loc select only certain columns\n",
    "newdf = df.loc[df.Age > 19, ['FirstName', 'LastName']]\n",
    "newdf"
   ]
  },
  {
   "cell_type": "code",
   "execution_count": 145,
   "id": "b129cc61-6bea-49f7-ad9f-7d6907e4685e",
   "metadata": {},
   "outputs": [
    {
     "data": {
      "text/html": [
       "<div>\n",
       "<style scoped>\n",
       "    .dataframe tbody tr th:only-of-type {\n",
       "        vertical-align: middle;\n",
       "    }\n",
       "\n",
       "    .dataframe tbody tr th {\n",
       "        vertical-align: top;\n",
       "    }\n",
       "\n",
       "    .dataframe thead th {\n",
       "        text-align: right;\n",
       "    }\n",
       "</style>\n",
       "<table border=\"1\" class=\"dataframe\">\n",
       "  <thead>\n",
       "    <tr style=\"text-align: right;\">\n",
       "      <th></th>\n",
       "      <th>FirstName</th>\n",
       "      <th>LastName</th>\n",
       "      <th>Age</th>\n",
       "    </tr>\n",
       "  </thead>\n",
       "  <tbody>\n",
       "    <tr>\n",
       "      <th>2</th>\n",
       "      <td>Maria</td>\n",
       "      <td>White</td>\n",
       "      <td>76</td>\n",
       "    </tr>\n",
       "    <tr>\n",
       "      <th>1</th>\n",
       "      <td>Andrew</td>\n",
       "      <td>Purple</td>\n",
       "      <td>48</td>\n",
       "    </tr>\n",
       "    <tr>\n",
       "      <th>0</th>\n",
       "      <td>John</td>\n",
       "      <td>Brown</td>\n",
       "      <td>25</td>\n",
       "    </tr>\n",
       "    <tr>\n",
       "      <th>3</th>\n",
       "      <td>Helen</td>\n",
       "      <td>Blue</td>\n",
       "      <td>19</td>\n",
       "    </tr>\n",
       "  </tbody>\n",
       "</table>\n",
       "</div>"
      ],
      "text/plain": [
       "  FirstName LastName  Age\n",
       "2     Maria    White   76\n",
       "1    Andrew   Purple   48\n",
       "0      John    Brown   25\n",
       "3     Helen     Blue   19"
      ]
     },
     "execution_count": 145,
     "metadata": {},
     "output_type": "execute_result"
    }
   ],
   "source": [
    "# How to sort?\n",
    "\n",
    "# Create a dictionary\n",
    "dict = [\n",
    "    {'FirstName': 'John', 'LastName': 'Brown', 'Age': 25},\n",
    "    {'FirstName': 'Andrew', 'LastName': 'Purple', 'Age': 48},\n",
    "    {'FirstName': 'Maria', 'LastName': 'White', 'Age': 76},\n",
    "    {'FirstName': 'Helen', 'LastName': 'Blue', 'Age': 19}\n",
    "]\n",
    "# Make it DF with DataFrame command\n",
    "df = pd.DataFrame(dict)\n",
    "\n",
    "# Sorting by 'Age' in ascending order with sort_values()\n",
    "sorted_df = df.sort_values(by='Age')\n",
    "sorted_df\n",
    "\n",
    "# Sorting by 'Age' in descending order with sort_values()\n",
    "sorted_df = df.sort_values(by='Age', ascending = False)\n",
    "sorted_df"
   ]
  },
  {
   "cell_type": "code",
   "execution_count": 147,
   "id": "7f946a8c-1744-416a-ab7c-d69fd06145d3",
   "metadata": {},
   "outputs": [
    {
     "data": {
      "text/plain": [
       "0    3.0\n",
       "1    1.0\n",
       "2    4.0\n",
       "3    2.0\n",
       "Name: FirstName, dtype: float64"
      ]
     },
     "execution_count": 147,
     "metadata": {},
     "output_type": "execute_result"
    }
   ],
   "source": [
    "# How to rank?\n",
    "\n",
    "# Create a dictionary\n",
    "dict = [\n",
    "    {'FirstName': 'John', 'LastName': 'Brown', 'Age': 25},\n",
    "    {'FirstName': 'Andrew', 'LastName': 'Purple', 'Age': 48},\n",
    "    {'FirstName': 'Maria', 'LastName': 'White', 'Age': 76},\n",
    "    {'FirstName': 'Helen', 'LastName': 'Blue', 'Age': 19}\n",
    "]\n",
    "# Make it DF with DataFrame command\n",
    "df = pd.DataFrame(dict)\n",
    "\n",
    "# Ranking by 'FirstName' in ascending order with rank()\n",
    "ranked_df = df['FirstName'].rank()\n",
    "ranked_df"
   ]
  },
  {
   "cell_type": "code",
   "execution_count": null,
   "id": "919210c8-e426-4c1b-915b-dac78782b97a",
   "metadata": {},
   "outputs": [],
   "source": []
  }
 ],
 "metadata": {
  "kernelspec": {
   "display_name": "Python 3 (ipykernel)",
   "language": "python",
   "name": "python3"
  },
  "language_info": {
   "codemirror_mode": {
    "name": "ipython",
    "version": 3
   },
   "file_extension": ".py",
   "mimetype": "text/x-python",
   "name": "python",
   "nbconvert_exporter": "python",
   "pygments_lexer": "ipython3",
   "version": "3.10.0"
  }
 },
 "nbformat": 4,
 "nbformat_minor": 5
}
